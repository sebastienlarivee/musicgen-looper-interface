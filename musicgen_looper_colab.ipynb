{
  "cells": [
    {
      "cell_type": "code",
      "execution_count": null,
      "metadata": {
        "colab": {
          "base_uri": "https://localhost:8080/"
        },
        "id": "c9tC-qU8hxR4",
        "outputId": "29de5e09-ff45-4557-daf9-8909af3c9879"
      },
      "outputs": [],
      "source": [
        "!apt-get install -y ffmpeg portaudio19-dev rubberband-cli\n",
        "%cd /content\n",
        "!git clone https://github.com/sebastienlarivee/musicgen-looper-interface.git\n",
        "%cd /content/musicgen-looper-interface\n",
        "!pip install -r requirements.txt\n",
        "!python app.py"
      ]
    }
  ],
  "metadata": {
    "accelerator": "GPU",
    "colab": {
      "gpuType": "T4",
      "provenance": []
    },
    "kernelspec": {
      "display_name": "Python 3",
      "name": "python3"
    },
    "language_info": {
      "name": "python"
    }
  },
  "nbformat": 4,
  "nbformat_minor": 0
}
