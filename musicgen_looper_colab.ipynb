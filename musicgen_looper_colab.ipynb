{
  "cells": [
    {
      "cell_type": "markdown",
      "metadata": {
        "id": "wS6VjN4fsCHD"
      },
      "source": [
        "# MusicGen Looper Interface\n",
        "By Sebastien Larivee [Github](https://github.com/sebastienlarivee) Discord: hoenn7411\n",
        "\n",
        "Based on [cog-musicgen-looper](https://github.com/andreasjansson/cog-musicgen-looper) by Andreas Jansson\n",
        "\n",
        "[Project Github](https://github.com/sebastienlarivee/musicgen-looper-interface)\n",
        "\n",
        "**Instructions:**\n",
        "- Make sure you are connected to a T4 GPU Runtime or better.\n",
        "- Run the cell found below.\n",
        "- Wait a few minutes for all the requirements to be installed.\n",
        "- The cell output will then give you a link with the heading *Running on public URL:*\n",
        "- Click the link to open the interface.\n",
        "\n",
        "\n",
        "<details>\n",
        "  <summary>Notes:</summary>\n",
        "\n",
        "  - Your first generation will take a little longer as the musicgen model will be loaded for the first time\n",
        "\n",
        "  - For now the generated audio is saved in /tmp/ on Colab. Soon I'll update this to allow for direct saving to Google Drive and other locations.\n",
        "\n",
        "  - This is an early release, **if you run into bugs let me know on Discord or Github and I'll try to fix them ASAP.**\n"
      ]
    },
    {
      "cell_type": "code",
      "execution_count": null,
      "metadata": {
        "id": "c9tC-qU8hxR4"
      },
      "outputs": [],
      "source": [
        "!apt-get install -y ffmpeg portaudio19-dev rubberband-cli\n",
        "%cd /content\n",
        "!git clone https://github.com/sebastienlarivee/musicgen-looper-interface.git\n",
        "%cd /content/musicgen-looper-interface\n",
        "!pip install -r requirements.txt\n",
        "!python app.py"
      ]
    }
  ],
  "metadata": {
    "accelerator": "GPU",
    "colab": {
      "gpuType": "T4",
      "provenance": []
    },
    "kernelspec": {
      "display_name": "Python 3",
      "name": "python3"
    },
    "language_info": {
      "name": "python"
    }
  },
  "nbformat": 4,
  "nbformat_minor": 0
}
